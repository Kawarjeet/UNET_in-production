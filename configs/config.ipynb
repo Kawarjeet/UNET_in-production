{
  "nbformat": 4,
  "nbformat_minor": 0,
  "metadata": {
    "colab": {
      "name": "config.ipynb",
      "provenance": [],
      "authorship_tag": "ABX9TyOk9RUrMSwCANj7WMqp0kWV",
      "include_colab_link": true
    },
    "kernelspec": {
      "name": "python3",
      "display_name": "Python 3"
    },
    "language_info": {
      "name": "python"
    }
  },
  "cells": [
    {
      "cell_type": "markdown",
      "metadata": {
        "id": "view-in-github",
        "colab_type": "text"
      },
      "source": [
        "<a href=\"https://colab.research.google.com/github/Kawarjeet/UNET_in-production/blob/main/configs/config.ipynb\" target=\"_parent\"><img src=\"https://colab.research.google.com/assets/colab-badge.svg\" alt=\"Open In Colab\"/></a>"
      ]
    },
    {
      "cell_type": "code",
      "execution_count": 1,
      "metadata": {
        "id": "1QxzlpMxFiAd"
      },
      "outputs": [],
      "source": [
        "CFG = {\n",
        "    \"data\": {\n",
        "        \"path\": \"oxford_iiit_pet:3.*.*\",\n",
        "        \"image_size\": 128,\n",
        "        \"load_with_info\": True\n",
        "    },\n",
        "    \"train\": {\n",
        "        \"batch_size\": 64,\n",
        "        \"buffer_size\": 1000,\n",
        "        \"epoches\": 20,\n",
        "        \"val_subsplits\": 5,\n",
        "        \"optimizer\": {\n",
        "            \"type\": \"adam\"\n",
        "        },\n",
        "        \"metrics\": [\"accuracy\"]\n",
        "    },\n",
        "    \"model\": {\n",
        "        \"input\": [128, 128, 3],\n",
        "        \"up_stack\": {\n",
        "            \"layer_1\": 512,\n",
        "            \"layer_2\": 256,\n",
        "            \"layer_3\": 128,\n",
        "            \"layer_4\": 64,\n",
        "            \"kernels\": 3\n",
        "        },\n",
        "        \"output\": 3\n",
        "    }\n",
        "}"
      ]
    }
  ]
}