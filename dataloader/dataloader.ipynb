{
  "nbformat": 4,
  "nbformat_minor": 0,
  "metadata": {
    "colab": {
      "name": "config.ipynb",
      "provenance": [],
      "authorship_tag": "ABX9TyMeAi4zOwksXtReDhpcQIsB",
      "include_colab_link": true
    },
    "kernelspec": {
      "name": "python3",
      "display_name": "Python 3"
    },
    "language_info": {
      "name": "python"
    }
  },
  "cells": [
    {
      "cell_type": "markdown",
      "metadata": {
        "id": "view-in-github",
        "colab_type": "text"
      },
      "source": [
        "<a href=\"https://colab.research.google.com/github/Kawarjeet/UNET_in-production/blob/main/dataloader/dataloader.ipynb\" target=\"_parent\"><img src=\"https://colab.research.google.com/assets/colab-badge.svg\" alt=\"Open In Colab\"/></a>"
      ]
    },
    {
      "cell_type": "code",
      "execution_count": null,
      "metadata": {
        "id": "1QxzlpMxFiAd"
      },
      "outputs": [],
      "source": [
        "\"\"\"Data Loader\"\"\"\n",
        "\n",
        "import tensorflow_datasets as tfds\n",
        "\n",
        "\n",
        "class DataLoader:\n",
        "    \"\"\"Data Loader class\"\"\"\n",
        "\n",
        "    @staticmethod\n",
        "    def load_data(data_config):\n",
        "        \"\"\"Loads dataset from path\"\"\"\n",
        "        return tfds.load(data_config.path, with_info=data_config.load_with_info)"
      ]
    }
  ]
}