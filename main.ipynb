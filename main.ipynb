{
  "nbformat": 4,
  "nbformat_minor": 0,
  "metadata": {
    "colab": {
      "name": "config.ipynb",
      "provenance": [],
      "authorship_tag": "ABX9TyOQmkEGQrRVm/wL+ODkqGbr",
      "include_colab_link": true
    },
    "kernelspec": {
      "name": "python3",
      "display_name": "Python 3"
    },
    "language_info": {
      "name": "python"
    }
  },
  "cells": [
    {
      "cell_type": "markdown",
      "metadata": {
        "id": "view-in-github",
        "colab_type": "text"
      },
      "source": [
        "<a href=\"https://colab.research.google.com/github/Kawarjeet/UNET_in-production/blob/main/main.ipynb\" target=\"_parent\"><img src=\"https://colab.research.google.com/assets/colab-badge.svg\" alt=\"Open In Colab\"/></a>"
      ]
    },
    {
      "cell_type": "code",
      "execution_count": null,
      "metadata": {
        "id": "1QxzlpMxFiAd"
      },
      "outputs": [],
      "source": [
        "\"\"\" main.py \"\"\"\n",
        "\n",
        "from configs.config import CFG\n",
        "from model.unet import UNet\n",
        "\n",
        "\n",
        "def run():\n",
        "    \"\"\"Builds model, loads data, trains and evaluates\"\"\"\n",
        "    model = UNet(CFG)\n",
        "    model.load_data()\n",
        "    model.build()\n",
        "    # model.train()\n",
        "    model.evaluate()\n",
        "\n",
        "\n",
        "if __name__ == '__main__':\n",
        "    run()"
      ]
    }
  ]
}